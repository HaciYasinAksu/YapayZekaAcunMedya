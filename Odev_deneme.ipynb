{
  "metadata": {
    "kernelspec": {
      "name": "python",
      "display_name": "Python (Pyodide)",
      "language": "python"
    },
    "language_info": {
      "codemirror_mode": {
        "name": "python",
        "version": 3
      },
      "file_extension": ".py",
      "mimetype": "text/x-python",
      "name": "python",
      "nbconvert_exporter": "python",
      "pygments_lexer": "ipython3",
      "version": "3.8"
    }
  },
  "nbformat_minor": 5,
  "nbformat": 4,
  "cells": [
    {
      "id": "47240b6e-6445-4953-8430-afdfa43e2fdb",
      "cell_type": "markdown",
      "source": "Dataset olarak geçmiş derslerde kullanmış olduğumuz bostonhousedatayı kullandım",
      "metadata": {}
    },
    {
      "id": "2c119687-d1f0-4d79-9e42-b3290435b1c8",
      "cell_type": "code",
      "source": "import pandas as pd\nimport numpy as np\n",
      "metadata": {
        "trusted": true
      },
      "outputs": [],
      "execution_count": 1
    },
    {
      "id": "759e9fd8-467f-4e2d-8974-a67c1fd111a4",
      "cell_type": "code",
      "source": "df = pd.read_csv(\"data.csv\")\ndf.head()",
      "metadata": {
        "trusted": true
      },
      "outputs": [
        {
          "execution_count": 2,
          "output_type": "execute_result",
          "data": {
            "text/plain": "                  date      price  bedrooms  bathrooms  sqft_living  sqft_lot  \\\n0  2014-05-02 00:00:00   313000.0       3.0       1.50         1340      7912   \n1  2014-05-02 00:00:00  2384000.0       5.0       2.50         3650      9050   \n2  2014-05-02 00:00:00   342000.0       3.0       2.00         1930     11947   \n3  2014-05-02 00:00:00   420000.0       3.0       2.25         2000      8030   \n4  2014-05-02 00:00:00   550000.0       4.0       2.50         1940     10500   \n\n   floors  waterfront  view  condition  sqft_above  sqft_basement  yr_built  \\\n0     1.5           0     0          3        1340              0      1955   \n1     2.0           0     4          5        3370            280      1921   \n2     1.0           0     0          4        1930              0      1966   \n3     1.0           0     0          4        1000           1000      1963   \n4     1.0           0     0          4        1140            800      1976   \n\n   yr_renovated                    street       city  statezip country  \n0          2005      18810 Densmore Ave N  Shoreline  WA 98133     USA  \n1             0           709 W Blaine St    Seattle  WA 98119     USA  \n2             0  26206-26214 143rd Ave SE       Kent  WA 98042     USA  \n3             0           857 170th Pl NE   Bellevue  WA 98008     USA  \n4          1992         9105 170th Ave NE    Redmond  WA 98052     USA  ",
            "text/html": "<div>\n<style scoped>\n    .dataframe tbody tr th:only-of-type {\n        vertical-align: middle;\n    }\n\n    .dataframe tbody tr th {\n        vertical-align: top;\n    }\n\n    .dataframe thead th {\n        text-align: right;\n    }\n</style>\n<table border=\"1\" class=\"dataframe\">\n  <thead>\n    <tr style=\"text-align: right;\">\n      <th></th>\n      <th>date</th>\n      <th>price</th>\n      <th>bedrooms</th>\n      <th>bathrooms</th>\n      <th>sqft_living</th>\n      <th>sqft_lot</th>\n      <th>floors</th>\n      <th>waterfront</th>\n      <th>view</th>\n      <th>condition</th>\n      <th>sqft_above</th>\n      <th>sqft_basement</th>\n      <th>yr_built</th>\n      <th>yr_renovated</th>\n      <th>street</th>\n      <th>city</th>\n      <th>statezip</th>\n      <th>country</th>\n    </tr>\n  </thead>\n  <tbody>\n    <tr>\n      <th>0</th>\n      <td>2014-05-02 00:00:00</td>\n      <td>313000.0</td>\n      <td>3.0</td>\n      <td>1.50</td>\n      <td>1340</td>\n      <td>7912</td>\n      <td>1.5</td>\n      <td>0</td>\n      <td>0</td>\n      <td>3</td>\n      <td>1340</td>\n      <td>0</td>\n      <td>1955</td>\n      <td>2005</td>\n      <td>18810 Densmore Ave N</td>\n      <td>Shoreline</td>\n      <td>WA 98133</td>\n      <td>USA</td>\n    </tr>\n    <tr>\n      <th>1</th>\n      <td>2014-05-02 00:00:00</td>\n      <td>2384000.0</td>\n      <td>5.0</td>\n      <td>2.50</td>\n      <td>3650</td>\n      <td>9050</td>\n      <td>2.0</td>\n      <td>0</td>\n      <td>4</td>\n      <td>5</td>\n      <td>3370</td>\n      <td>280</td>\n      <td>1921</td>\n      <td>0</td>\n      <td>709 W Blaine St</td>\n      <td>Seattle</td>\n      <td>WA 98119</td>\n      <td>USA</td>\n    </tr>\n    <tr>\n      <th>2</th>\n      <td>2014-05-02 00:00:00</td>\n      <td>342000.0</td>\n      <td>3.0</td>\n      <td>2.00</td>\n      <td>1930</td>\n      <td>11947</td>\n      <td>1.0</td>\n      <td>0</td>\n      <td>0</td>\n      <td>4</td>\n      <td>1930</td>\n      <td>0</td>\n      <td>1966</td>\n      <td>0</td>\n      <td>26206-26214 143rd Ave SE</td>\n      <td>Kent</td>\n      <td>WA 98042</td>\n      <td>USA</td>\n    </tr>\n    <tr>\n      <th>3</th>\n      <td>2014-05-02 00:00:00</td>\n      <td>420000.0</td>\n      <td>3.0</td>\n      <td>2.25</td>\n      <td>2000</td>\n      <td>8030</td>\n      <td>1.0</td>\n      <td>0</td>\n      <td>0</td>\n      <td>4</td>\n      <td>1000</td>\n      <td>1000</td>\n      <td>1963</td>\n      <td>0</td>\n      <td>857 170th Pl NE</td>\n      <td>Bellevue</td>\n      <td>WA 98008</td>\n      <td>USA</td>\n    </tr>\n    <tr>\n      <th>4</th>\n      <td>2014-05-02 00:00:00</td>\n      <td>550000.0</td>\n      <td>4.0</td>\n      <td>2.50</td>\n      <td>1940</td>\n      <td>10500</td>\n      <td>1.0</td>\n      <td>0</td>\n      <td>0</td>\n      <td>4</td>\n      <td>1140</td>\n      <td>800</td>\n      <td>1976</td>\n      <td>1992</td>\n      <td>9105 170th Ave NE</td>\n      <td>Redmond</td>\n      <td>WA 98052</td>\n      <td>USA</td>\n    </tr>\n  </tbody>\n</table>\n</div>"
          },
          "metadata": {}
        }
      ],
      "execution_count": 2
    },
    {
      "id": "80258061-60c8-4737-860d-c0bc27d718e3",
      "cell_type": "code",
      "source": "df.dtypes\n #numerik olmayanları yok etmem lazım",
      "metadata": {
        "trusted": true
      },
      "outputs": [
        {
          "execution_count": 7,
          "output_type": "execute_result",
          "data": {
            "text/plain": "date              object\nprice            float64\nbedrooms         float64\nbathrooms        float64\nsqft_living        int64\nsqft_lot           int64\nfloors           float64\nwaterfront         int64\nview               int64\ncondition          int64\nsqft_above         int64\nsqft_basement      int64\nyr_built           int64\nyr_renovated       int64\nstreet            object\ncity              object\nstatezip          object\ncountry           object\ndtype: object"
          },
          "metadata": {}
        }
      ],
      "execution_count": 7
    },
    {
      "id": "3073ed80-86f2-4d7c-ba94-0919b89c3718",
      "cell_type": "code",
      "source": "df.isnull().sum()\n #boş yer yok",
      "metadata": {
        "trusted": true
      },
      "outputs": [
        {
          "execution_count": 8,
          "output_type": "execute_result",
          "data": {
            "text/plain": "date             0\nprice            0\nbedrooms         0\nbathrooms        0\nsqft_living      0\nsqft_lot         0\nfloors           0\nwaterfront       0\nview             0\ncondition        0\nsqft_above       0\nsqft_basement    0\nyr_built         0\nyr_renovated     0\nstreet           0\ncity             0\nstatezip         0\ncountry          0\ndtype: int64"
          },
          "metadata": {}
        }
      ],
      "execution_count": 8
    },
    {
      "id": "801f410c-12f3-43c9-9a36-2a0f7a8b5739",
      "cell_type": "code",
      "source": "",
      "metadata": {
        "trusted": true
      },
      "outputs": [],
      "execution_count": null
    }
  ]
}