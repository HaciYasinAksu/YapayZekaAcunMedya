{
 "cells": [
  {
   "cell_type": "markdown",
   "id": "970172e7-0d61-450d-bc8c-19a0dee8d372",
   "metadata": {},
   "source": [
    "Özellik ölçekleme (feature scaling), makine öğrenmesinde kullanılan sayısal verilerin ortak bir ölçeğe getirilmesi işlemidir. Bu, özellikle mesafeye duyarlı algoritmalarda (KNN, KMeans, SVM gibi) modelin doğru çalışabilmesi için gereklidir çünkü farklı ölçeklerdeki özellikler modelin öğrenmesini yanıltabilir. Özellik ölçekleme yöntemlerinden en yaygın olanları: StandardScaler, veriyi ortalaması 0 ve standart sapması 1 olacak şekilde dönüştürür;MinMaxScaler, verileri 0 ile 1 arasına sıkıştırır; RobustScaler ise medyan ve çeyrekler arası aralığı (IQR) kullanarak aykırı değerlere karşı dayanıklılık sağlar. Bu işlem genellikle model eğitiminden önce uygulanır ve yalnızca eğitim verisine göre `fit` edilip, aynı dönüşüm test verisine de uygulanmalıdır. Özellik ölçekleme, modelin daha hızlı, daha doğru ve daha dengeli öğrenmesini sağlar."
   ]
  }
 ],
 "metadata": {
  "kernelspec": {
   "display_name": "Python 3 (ipykernel)",
   "language": "python",
   "name": "python3"
  },
  "language_info": {
   "codemirror_mode": {
    "name": "ipython",
    "version": 3
   },
   "file_extension": ".py",
   "mimetype": "text/x-python",
   "name": "python",
   "nbconvert_exporter": "python",
   "pygments_lexer": "ipython3",
   "version": "3.12.9"
  }
 },
 "nbformat": 4,
 "nbformat_minor": 5
}
