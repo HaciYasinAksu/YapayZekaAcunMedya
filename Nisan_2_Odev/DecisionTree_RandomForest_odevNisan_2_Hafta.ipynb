{
 "cells": [
  {
   "cell_type": "markdown",
   "id": "a38157da",
   "metadata": {},
   "source": [
    "//Decision Tree Nedir?\n",
    "\n",
    "Decision tree ya da karar ağacı algoritması , temel prensip olarak elimizdeki veri setini analiz edip bu veri setini belirli özellikleri çerçevesinde ayrıştıran ve bu ayrışmayı regresyon problemlerini çözmek için kullanan yapıdır. Bir ağaç ve onun dalları gibi yapılanma gösterir . Bu durum terminolojik olarak bu yapıyı \"Root node\" ,\"Branch \", \"Internal Node \" ve \"Leaf Node\" adı verilen yapılara böler . \"Root Node\" veriyi en spesifik ayıran noktadan ayrışma gösterirken \"Leaf Node\" nihai tek özelliğe göre ayrım yapar . Kısaca bu yapı kendini genelden özele doğru bir ağaç yapısında veriden elde ettiği spesifik karar ve ayrıştırma mekanizmaları ile regresyon problemlerini çözer. Decision tree , kolay anlaşılabilirliği , kategorik ve numerik verilerle işlem yapabilmesi ve eksik verilere karşı olan toleransı ile avantaj sunarken küçük veri değişimlerine hassasiyeti ve aşırı dallanması sonucunda yorumlanmasının zorlaşması da dezavantaj yaratan yönleridir."
   ]
  },
  {
   "cell_type": "markdown",
   "id": "a427f759",
   "metadata": {},
   "source": [
    "//Random Forest Nedir ?\n",
    "Random forest veri setinden belirlenen miktarda rastgele verilerin seçilmesi ile eğitilen birden fazla \"Desicion Tree'nin\" sonuçlarını birleştiren ve bu yolla \"Desicion Tree'nin \" hata miktarını azaltan ve karar güvenilirliğini arttıran algoritma türüdür . Birden fazla karar ağacı mekanizmasıyla çalışmasından dolayı daha fazla bellek ve güç tüketimine sebep olur . "
   ]
  }
 ],
 "metadata": {
  "language_info": {
   "name": "python"
  }
 },
 "nbformat": 4,
 "nbformat_minor": 5
}
