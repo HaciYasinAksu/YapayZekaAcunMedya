{
 "cells": [
  {
   "cell_type": "markdown",
   "id": "0ea1c4ae-0cea-46fb-853a-bbdfeaf5a2a5",
   "metadata": {},
   "source": [
    "Vectorization Kavramı:\n",
    "Vectorization, metin verilerini sayısal vektörlere dönüştürme işlemidir. Makine öğrenmesi algoritmaları metinleri doğrudan işleyemez, bu nedenle metinlerin sayısal temsillere dönüştürülmesi gerekir. Bu dönüşümü yapmak için de belirli algoritmalar kullanılır.TF-IDF (Term Frequency-Inverse Document Frequency), metin vektörleştirmede kullanılan popüler bir yöntemdir. Bir terimin belgede görülme sıklığı ve tüm belgelerdeki oranını kullanarak kelimenin önemini hesap eder."
   ]
  },
  {
   "cell_type": "code",
   "execution_count": 4,
   "id": "0a1dfa4c-14c7-4f78-99eb-39296d9de03a",
   "metadata": {},
   "outputs": [
    {
     "name": "stdout",
     "output_type": "stream",
     "text": [
      "Kelime indeksleri: {'kedi': 2, 'köpek': 4, 'kuş': 3, 'evcil': 0, 'hayvan': 1, 'sadık': 5, 'özgürlüğü': 7, 'sever': 6}\n",
      "Matrisleri: [[0.         0.         0.57735027 0.57735027 0.57735027 0.\n",
      "  0.         0.        ]\n",
      " [0.66767854 0.52640543 0.52640543 0.         0.         0.\n",
      "  0.         0.        ]\n",
      " [0.         0.52640543 0.         0.         0.52640543 0.66767854\n",
      "  0.         0.        ]\n",
      " [0.         0.         0.         0.48693426 0.         0.\n",
      "  0.61761437 0.61761437]]\n"
     ]
    }
   ],
   "source": [
    "from sklearn.feature_extraction.text import TfidfVectorizer\n",
    "\n",
    "documents = [\n",
    "    \"kedi köpek kuş\",\n",
    "    \"kedi evcil hayvan\",\n",
    "    \"köpek sadık hayvan\",\n",
    "    \"kuş özgürlüğü sever\"\n",
    "]\n",
    "\n",
    "vectorizer_ornek = TfidfVectorizer()\n",
    "\n",
    "tfidf_matrix = vectorizer_ornek.fit_transform(documents)\n",
    "\n",
    "print(\"Kelime indeksleri:\", vectorizer.vocabulary_)\n",
    "print(\"Matrisleri:\", tfidf_matrix.toarray())"
   ]
  }
 ],
 "metadata": {
  "kernelspec": {
   "display_name": "Python 3 (ipykernel)",
   "language": "python",
   "name": "python3"
  },
  "language_info": {
   "codemirror_mode": {
    "name": "ipython",
    "version": 3
   },
   "file_extension": ".py",
   "mimetype": "text/x-python",
   "name": "python",
   "nbconvert_exporter": "python",
   "pygments_lexer": "ipython3",
   "version": "3.12.9"
  }
 },
 "nbformat": 4,
 "nbformat_minor": 5
}
