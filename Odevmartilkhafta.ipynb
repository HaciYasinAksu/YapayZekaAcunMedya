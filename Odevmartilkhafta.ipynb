{
  "metadata": {
    "kernelspec": {
      "name": "python",
      "display_name": "Python (Pyodide)",
      "language": "python"
    },
    "language_info": {
      "codemirror_mode": {
        "name": "python",
        "version": 3
      },
      "file_extension": ".py",
      "mimetype": "text/x-python",
      "name": "python",
      "nbconvert_exporter": "python",
      "pygments_lexer": "ipython3",
      "version": "3.8"
    }
  },
  "nbformat_minor": 5,
  "nbformat": 4,
  "cells": [
    {
      "id": "ca140cea-3521-4949-84b4-95d4c9d53b86",
      "cell_type": "code",
      "source": "import pandas as pd \npd.Series(): ",
      "metadata": {
        "trusted": true
      },
      "outputs": [],
      "execution_count": null
    },
    {
      "id": "1ee7ee19-7551-45b7-b4d1-bf08cdadc891",
      "cell_type": "code",
      "source": "Tek boyutlu bir Series veri yapısı oluşturur.",
      "metadata": {
        "trusted": true
      },
      "outputs": [],
      "execution_count": null
    },
    {
      "id": "18b51883-672f-45c4-aee3-1780013b51e0",
      "cell_type": "code",
      "source": "import pandas as pd\npd.DataFrame()",
      "metadata": {
        "trusted": true
      },
      "outputs": [],
      "execution_count": null
    },
    {
      "id": "418f6d61-92b9-4ecd-9d73-7c306ab5741a",
      "cell_type": "code",
      "source": "Çok boyutlu bir DataFrame veri yapısı oluşturur.",
      "metadata": {
        "trusted": true
      },
      "outputs": [],
      "execution_count": null
    },
    {
      "id": "d3d34cd1-08b9-4b97-bb1f-1308f7b68432",
      "cell_type": "code",
      "source": "import pandas as pd\npd.read_csv()",
      "metadata": {
        "trusted": true
      },
      "outputs": [],
      "execution_count": null
    },
    {
      "id": "3ee3dcb1-c228-4460-af6c-7d5dee38ea85",
      "cell_type": "markdown",
      "source": "CSV dosyasından veriyi okur ve DataFrame'e dönüştürür.",
      "metadata": {}
    },
    {
      "id": "f52a7fcc-4847-478a-8165-9fa9d02093bd",
      "cell_type": "code",
      "source": "import pandas as pd\npd.read_excel()",
      "metadata": {
        "trusted": true
      },
      "outputs": [],
      "execution_count": null
    },
    {
      "id": "c5896292-d347-4b5a-bf14-27477ac3429b",
      "cell_type": "markdown",
      "source": "Excel dosyasından veriyi okur.",
      "metadata": {}
    },
    {
      "id": "c874611f-aeb4-40dc-8d7e-48180cb73950",
      "cell_type": "code",
      "source": "import pandas as pd\npd.read_sql()",
      "metadata": {
        "trusted": true
      },
      "outputs": [],
      "execution_count": null
    },
    {
      "id": "355bf9ee-7677-46dc-a715-8a1e07640b6b",
      "cell_type": "markdown",
      "source": "Veritabanından veriyi okur.",
      "metadata": {}
    },
    {
      "id": "e343f8f9-3955-4cea-bbfa-72713463817b",
      "cell_type": "code",
      "source": "import pandas as pd\npd.drop() ",
      "metadata": {
        "trusted": true
      },
      "outputs": [],
      "execution_count": null
    },
    {
      "id": "6c64ed90-5448-4185-99ed-9cb07b784df5",
      "cell_type": "markdown",
      "source": " Belirli satır veya sütunları çıkarır.",
      "metadata": {}
    },
    {
      "id": "86b83287-063f-436d-8380-d7b2bfd6f3ff",
      "cell_type": "code",
      "source": "import pandas as pd\npd.fillna()",
      "metadata": {
        "trusted": true
      },
      "outputs": [],
      "execution_count": null
    },
    {
      "id": "9c7533dc-5005-4c6f-81f1-23628628ca05",
      "cell_type": "markdown",
      "source": "Eksik değerleri belirli bir değerle doldurur.",
      "metadata": {}
    },
    {
      "id": "af48286f-6248-4a8f-b0a6-0d4e241ae089",
      "cell_type": "code",
      "source": "import pandas as pd\npd.replace()",
      "metadata": {
        "trusted": true
      },
      "outputs": [],
      "execution_count": null
    },
    {
      "id": "19000550-ce0d-498b-a9dc-ca230381c9af",
      "cell_type": "markdown",
      "source": "Belirli değerleri başka değerlerle değiştirir.",
      "metadata": {}
    },
    {
      "id": "bf372f25-63d6-4d35-b269-2b541262c11c",
      "cell_type": "code",
      "source": "import pandas as pd\npd.plot() ",
      "metadata": {
        "trusted": true
      },
      "outputs": [],
      "execution_count": null
    },
    {
      "id": "90083597-9dde-4084-9a99-578f52890154",
      "cell_type": "markdown",
      "source": "Grafikler oluşturur (çizgi, çubuk, pasta vb.).",
      "metadata": {}
    },
    {
      "id": "91be7e9d-7d7a-432c-bf2d-44b8712a1ca6",
      "cell_type": "code",
      "source": "import pandas as pd\npd.hist()",
      "metadata": {
        "trusted": true
      },
      "outputs": [],
      "execution_count": null
    },
    {
      "id": "f0cec02b-cbd8-41dd-b3cd-4d6632a6a927",
      "cell_type": "markdown",
      "source": "Histogram çizimi yapar.",
      "metadata": {}
    },
    {
      "id": "eb82342e-ae24-49fa-84eb-3dcd589c760c",
      "cell_type": "code",
      "source": "import pandas as pd\npd.scatter()",
      "metadata": {
        "trusted": true
      },
      "outputs": [],
      "execution_count": null
    },
    {
      "id": "86d74dd6-c0f1-4bd2-84f9-d650564a6d10",
      "cell_type": "markdown",
      "source": "Nokta grafiği çizimi yapar.",
      "metadata": {}
    }
  ]
}