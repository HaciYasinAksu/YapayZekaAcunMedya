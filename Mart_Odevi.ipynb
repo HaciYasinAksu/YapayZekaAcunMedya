{
 "cells": [
  {
   "cell_type": "code",
   "execution_count": 12,
   "id": "a92eddd2-505b-4f10-be5f-959d8dc6e438",
   "metadata": {},
   "outputs": [
    {
     "name": "stdout",
     "output_type": "stream",
     "text": [
      "1. np.array(): [ 1  2  3  4  5  6  7  8  9 10]\n"
     ]
    }
   ],
   "source": [
    "import numpy as np\n",
    "\n",
    "# 1. np.array()\n",
    "# NumPy dizisi oluşturma\n",
    "arr = np.array([1, 2, 3, 4, 5,6,7,8,9,10])\n",
    "print(\"1. np.array():\", arr)"
   ]
  },
  {
   "cell_type": "code",
   "execution_count": 13,
   "id": "61e0eb8e-229f-4325-a619-b7014443134b",
   "metadata": {},
   "outputs": [
    {
     "name": "stdout",
     "output_type": "stream",
     "text": [
      "\n",
      "2. np.zeros():\n",
      " [[0. 0. 0. 0. 0. 0. 0. 0. 0. 0. 0. 0. 0. 0. 0.]\n",
      " [0. 0. 0. 0. 0. 0. 0. 0. 0. 0. 0. 0. 0. 0. 0.]\n",
      " [0. 0. 0. 0. 0. 0. 0. 0. 0. 0. 0. 0. 0. 0. 0.]]\n"
     ]
    }
   ],
   "source": [
    "# 2. np.zeros()\n",
    "# Belirtilen boyutta sıfırlarla dolu bir dizi oluşturma\n",
    "zeros_arr = np.zeros((3, 15))\n",
    "print(\"\\n2. np.zeros():\\n\", zeros_arr)\n",
    "\n"
   ]
  },
  {
   "cell_type": "code",
   "execution_count": 4,
   "id": "44cd6ee4-15f5-487d-ab0a-bc401fc30fae",
   "metadata": {},
   "outputs": [
    {
     "name": "stdout",
     "output_type": "stream",
     "text": [
      "\n",
      "3. np.ones():\n",
      " [[1. 1. 1. 1.]\n",
      " [1. 1. 1. 1.]]\n"
     ]
    }
   ],
   "source": [
    "# 3. np.ones()\n",
    "# Belirtilen boyutta birlerle dolu bir dizi oluşturma\n",
    "ones_arr = np.ones((2, 4))\n",
    "print(\"\\n3. np.ones():\\n\", ones_arr)\n",
    "\n"
   ]
  },
  {
   "cell_type": "code",
   "execution_count": 5,
   "id": "b736f75f-c4d0-4e92-a9e8-7e4111ca835f",
   "metadata": {},
   "outputs": [
    {
     "name": "stdout",
     "output_type": "stream",
     "text": [
      "\n",
      "4. np.arange(): [0 2 4 6 8]\n"
     ]
    }
   ],
   "source": [
    "# 4. np.arange()\n",
    "# Belirtilen aralıktaki sayılarla dizi oluşturma\n",
    "arange_arr = np.arange(0, 10, 2)\n",
    "print(\"\\n4. np.arange():\", arange_arr)\n",
    "\n"
   ]
  },
  {
   "cell_type": "code",
   "execution_count": 6,
   "id": "1aaacc31-ea9b-4235-8320-8b999250a7cd",
   "metadata": {},
   "outputs": [
    {
     "name": "stdout",
     "output_type": "stream",
     "text": [
      "\n",
      "5. np.linspace(): [0.   0.25 0.5  0.75 1.  ]\n"
     ]
    }
   ],
   "source": [
    "# 5. np.linspace()\n",
    "# Belirtilen aralıktaki sayıları eşit aralıklarla bölerek dizi oluşturma\n",
    "linspace_arr = np.linspace(0, 1, 5)\n",
    "print(\"\\n5. np.linspace():\", linspace_arr)\n",
    "\n"
   ]
  },
  {
   "cell_type": "code",
   "execution_count": 7,
   "id": "7d775d77-200a-4387-a7a9-b90c7f84eab5",
   "metadata": {},
   "outputs": [
    {
     "name": "stdout",
     "output_type": "stream",
     "text": [
      "\n",
      "6. np.random.rand():\n",
      " [[0.71162052 0.38696269 0.47313527]\n",
      " [0.46684584 0.47496224 0.93674361]\n",
      " [0.22838803 0.55413833 0.85245314]]\n"
     ]
    }
   ],
   "source": [
    "# 6. np.random.rand()\n",
    "# Belirtilen boyutta rastgele sayılar içeren dizi oluşturma\n",
    "rand_arr = np.random.rand(3, 3)\n",
    "print(\"\\n6. np.random.rand():\\n\", rand_arr)\n",
    "\n"
   ]
  },
  {
   "cell_type": "code",
   "execution_count": 8,
   "id": "8852abd3-7207-47e3-aa82-590b7ab27e6a",
   "metadata": {},
   "outputs": [
    {
     "name": "stdout",
     "output_type": "stream",
     "text": [
      "\n",
      "7. np.random.randint():\n",
      " [[3 7 2]\n",
      " [9 8 6]]\n"
     ]
    }
   ],
   "source": [
    "# 7. np.random.randint()\n",
    "# Belirtilen aralıkta rastgele tamsayılar içeren dizi oluşturma\n",
    "randint_arr = np.random.randint(1, 10, (2, 3))\n",
    "print(\"\\n7. np.random.randint():\\n\", randint_arr)\n",
    "\n"
   ]
  },
  {
   "cell_type": "code",
   "execution_count": 9,
   "id": "b3cfc9f0-5f23-47d5-9a1d-8cd066153c74",
   "metadata": {},
   "outputs": [
    {
     "name": "stdout",
     "output_type": "stream",
     "text": [
      "\n",
      "8. np.reshape():\n",
      " [[1 2 3]\n",
      " [4 5 6]\n",
      " [7 8 9]]\n"
     ]
    }
   ],
   "source": [
    "# 8. np.reshape()\n",
    "# Diziyi yeniden şekillendirme\n",
    "reshaped_arr = np.arange(1, 10).reshape(3, 3)\n",
    "print(\"\\n8. np.reshape():\\n\", reshaped_arr)\n",
    "\n"
   ]
  },
  {
   "cell_type": "code",
   "execution_count": 10,
   "id": "2578832c-0be9-4f51-a4cf-712f9449794c",
   "metadata": {},
   "outputs": [
    {
     "name": "stdout",
     "output_type": "stream",
     "text": [
      "\n",
      "9. np.sum(): 45\n"
     ]
    }
   ],
   "source": [
    "# 9. np.sum()\n",
    "# Dizi elemanlarının toplamını hesaplama\n",
    "sum_arr = np.sum(reshaped_arr)\n",
    "print(\"\\n9. np.sum():\", sum_arr)\n",
    "\n"
   ]
  },
  {
   "cell_type": "code",
   "execution_count": 11,
   "id": "b71e55c9-a0fb-4491-beb4-29bb48263a75",
   "metadata": {},
   "outputs": [
    {
     "name": "stdout",
     "output_type": "stream",
     "text": [
      "\n",
      "10. np.mean(): 5.0\n"
     ]
    }
   ],
   "source": [
    "# 10. np.mean()\n",
    "# Dizi elemanlarının ortalamasını hesaplama\n",
    "mean_arr = np.mean(reshaped_arr)\n",
    "print(\"\\n10. np.mean():\", mean_arr)"
   ]
  },
  {
   "cell_type": "code",
   "execution_count": null,
   "id": "2b12e573-2989-4400-bab9-fc7cc914301f",
   "metadata": {},
   "outputs": [],
   "source": []
  }
 ],
 "metadata": {
  "kernelspec": {
   "display_name": "Python 3 (ipykernel)",
   "language": "python",
   "name": "python3"
  },
  "language_info": {
   "codemirror_mode": {
    "name": "ipython",
    "version": 3
   },
   "file_extension": ".py",
   "mimetype": "text/x-python",
   "name": "python",
   "nbconvert_exporter": "python",
   "pygments_lexer": "ipython3",
   "version": "3.12.9"
  }
 },
 "nbformat": 4,
 "nbformat_minor": 5
}
